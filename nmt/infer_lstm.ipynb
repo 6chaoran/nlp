{
 "cells": [
  {
   "cell_type": "code",
   "execution_count": 3,
   "metadata": {},
   "outputs": [],
   "source": [
    "from model.lstm import enc_dec_lstm, infer_lstm\n",
    "from util.util_prep import load_object\n",
    "from util.util_prep import clean_eng"
   ]
  },
  {
   "cell_type": "code",
   "execution_count": 4,
   "metadata": {},
   "outputs": [],
   "source": [
    "#======== model paramters =======\n",
    "input_path = './input/'\n",
    "latent_dim = 512\n",
    "weight_path = './weight/encoder_decoder_model_weights.h5'\n",
    "#======== train paramters =======\n",
    "model_config = load_object(input_path+'model_config.pkl')\n",
    "tar_vocab_size = model_config['tar_vocab_size']\n",
    "tokenizers = load_object(input_path+'tokenizers.pkl')\n",
    "\n",
    "model_config['latent_dim'] = latent_dim\n",
    "enc_dec_model, enc_model, dec_model = enc_dec_lstm(**model_config)\n",
    "enc_dec_model.load_weights(weight_path)\n",
    "tar_max_len = model_config['tar_max_len']"
   ]
  },
  {
   "cell_type": "code",
   "execution_count": 5,
   "metadata": {},
   "outputs": [
    {
     "data": {
      "text/html": [
       "<div>\n",
       "<style scoped>\n",
       "    .dataframe tbody tr th:only-of-type {\n",
       "        vertical-align: middle;\n",
       "    }\n",
       "\n",
       "    .dataframe tbody tr th {\n",
       "        vertical-align: top;\n",
       "    }\n",
       "\n",
       "    .dataframe thead th {\n",
       "        text-align: right;\n",
       "    }\n",
       "</style>\n",
       "<table border=\"1\" class=\"dataframe\">\n",
       "  <thead>\n",
       "    <tr style=\"text-align: right;\">\n",
       "      <th></th>\n",
       "      <th>en</th>\n",
       "      <th>cn</th>\n",
       "    </tr>\n",
       "  </thead>\n",
       "  <tbody>\n",
       "    <tr>\n",
       "      <th>0</th>\n",
       "      <td>Hi.</td>\n",
       "      <td>嗨。</td>\n",
       "    </tr>\n",
       "    <tr>\n",
       "      <th>1</th>\n",
       "      <td>Hi.</td>\n",
       "      <td>你好。</td>\n",
       "    </tr>\n",
       "    <tr>\n",
       "      <th>2</th>\n",
       "      <td>Run.</td>\n",
       "      <td>你用跑的。</td>\n",
       "    </tr>\n",
       "    <tr>\n",
       "      <th>3</th>\n",
       "      <td>Wait!</td>\n",
       "      <td>等等！</td>\n",
       "    </tr>\n",
       "    <tr>\n",
       "      <th>4</th>\n",
       "      <td>Hello!</td>\n",
       "      <td>你好。</td>\n",
       "    </tr>\n",
       "  </tbody>\n",
       "</table>\n",
       "</div>"
      ],
      "text/plain": [
       "       en     cn\n",
       "0     Hi.     嗨。\n",
       "1     Hi.    你好。\n",
       "2    Run.  你用跑的。\n",
       "3   Wait!    等等！\n",
       "4  Hello!    你好。"
      ]
     },
     "execution_count": 5,
     "metadata": {},
     "output_type": "execute_result"
    }
   ],
   "source": [
    "import pandas as pd\n",
    "df = pd.read_csv('./data/cmn_simplied.txt',sep='\\t', header=None, names = ['en','cn'])\n",
    "df.head()"
   ]
  },
  {
   "cell_type": "code",
   "execution_count": 6,
   "metadata": {},
   "outputs": [
    {
     "name": "stdout",
     "output_type": "stream",
     "text": [
      "[hi] => [<s>走开<e>]\n",
      "[hi] => [<s>走开<e>]\n",
      "[run] => [<s>小心脚下<e>]\n",
      "[wait] => [<s>继续看<e>]\n",
      "[hello] => [<s>你好<e>]\n",
      "[i try] => [<s>我累死了<e>]\n",
      "[i won] => [<s>我生病了<e>]\n",
      "[oh no] => [<s>没有水<e>]\n",
      "[cheers] => [<s>当然<e>]\n",
      "[he ran] => [<s>他跑了<e>]\n",
      "[hop in] => [<s>当然<e>]\n",
      "[i lost] => [<s>我累死了<e>]\n",
      "[i quit] => [<s>我累死了<e>]\n",
      "[i'm ok] => [<s>我很快乐<e>]\n",
      "[listen] => [<s>继续好<e>]\n",
      "[no way] => [<s>没有问题<e>]\n",
      "[no way] => [<s>没有问题<e>]\n",
      "[really] => [<s>真可能<e>]\n",
      "[try it] => [<s>保持安静<e>]\n",
      "[we try] => [<s>我们开始吧<e>]\n",
      "[why me] => [<s>告诉我他的事<e>]\n",
      "[ask tom] => [<s>请汤姆走<e>]\n",
      "[be calm] => [<s>保持安静<e>]\n",
      "[be fair] => [<s>没有问题<e>]\n",
      "[be kind] => [<s>没有问题<e>]\n",
      "[be nice] => [<s>小心扒手<e>]\n",
      "[call me] => [<s>让我走<e>]\n",
      "[call us] => [<s>叫汤姆<e>]\n",
      "[come in] => [<s>保持安静<e>]\n",
      "[get tom] => [<s>汤姆会走<e>]\n",
      "[get out] => [<s>保持安静<e>]\n",
      "[go away] => [<s>走开<e>]\n",
      "[go away] => [<s>走开<e>]\n",
      "[go away] => [<s>走开<e>]\n",
      "[goodbye] => [<s>再见<e>]\n",
      "[goodbye] => [<s>再见<e>]\n",
      "[hang on] => [<s>继续看<e>]\n",
      "[he came] => [<s>他跑了<e>]\n",
      "[he runs] => [<s>他很强壮<e>]\n",
      "[help me] => [<s>帮我<e>]\n",
      "[hold on] => [<s>抓住了<e>]\n",
      "[hug tom] => [<s>汤姆快<e>]\n",
      "[i agree] => [<s>我累死了<e>]\n",
      "[i'm ill] => [<s>我生病了<e>]\n",
      "[i'm old] => [<s>我是17岁<e>]\n",
      "[it's ok] => [<s>它会发生<e>]\n",
      "[it's me] => [<s>我很快乐<e>]\n",
      "[join us] => [<s>我们开始吧<e>]\n",
      "[keep it] => [<s>保持安静<e>]\n",
      "[kiss me] => [<s>对不起<e>]\n"
     ]
    }
   ],
   "source": [
    "enc_dec_model.load_weights(weight_path)\n",
    "\n",
    "for i in range(50):\n",
    "    src_raw = df.en.values[i]\n",
    "    src = clean_eng(src_raw)\n",
    "    dec = infer_lstm(src, enc_model, dec_model, tokenizers)\n",
    "    print('[%s] => [%s]'%(src,dec))"
   ]
  },
  {
   "cell_type": "code",
   "execution_count": null,
   "metadata": {},
   "outputs": [],
   "source": []
  }
 ],
 "metadata": {
  "kernelspec": {
   "display_name": "Python 3",
   "language": "python",
   "name": "python3"
  },
  "language_info": {
   "codemirror_mode": {
    "name": "ipython",
    "version": 3
   },
   "file_extension": ".py",
   "mimetype": "text/x-python",
   "name": "python",
   "nbconvert_exporter": "python",
   "pygments_lexer": "ipython3",
   "version": "3.6.7"
  }
 },
 "nbformat": 4,
 "nbformat_minor": 2
}
